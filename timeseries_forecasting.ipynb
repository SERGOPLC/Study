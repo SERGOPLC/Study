{
  "nbformat": 4,
  "nbformat_minor": 0,
  "metadata": {
    "kernelspec": {
      "display_name": "Python 3",
      "language": "python",
      "name": "python3"
    },
    "language_info": {
      "codemirror_mode": {
        "name": "ipython",
        "version": 3
      },
      "file_extension": ".py",
      "mimetype": "text/x-python",
      "name": "python",
      "nbconvert_exporter": "python",
      "pygments_lexer": "ipython3",
      "version": "3.8.5"
    },
    "colab": {
      "name": "Timeseries_forecasting.ipynb",
      "provenance": [],
      "collapsed_sections": []
    }
  },
  "cells": [
    {
      "cell_type": "markdown",
      "metadata": {
        "id": "v6_-KCwCmi2m"
      },
      "source": [
        "# Data Preparation"
      ]
    },
    {
      "cell_type": "code",
      "metadata": {
        "id": "bSOSulFRmi2n"
      },
      "source": [
        "import pandas as pd\n",
        "import numpy as np\n",
        "import sklearn\n",
        "from sklearn.model_selection import train_test_split\n",
        "import matplotlib.pyplot as plt"
      ],
      "execution_count": null,
      "outputs": []
    },
    {
      "cell_type": "code",
      "metadata": {
        "id": "M_oujiizmi2o"
      },
      "source": [
        "x = np.arange(3.1, 20, 0.2)"
      ],
      "execution_count": null,
      "outputs": []
    },
    {
      "cell_type": "code",
      "metadata": {
        "id": "a1H4k4eCmi2p"
      },
      "source": [
        "# Наша функция\n",
        "y = (np.sin(2*x) * x) + np.random.rand(x.size) * 0.2"
      ],
      "execution_count": null,
      "outputs": []
    },
    {
      "cell_type": "code",
      "metadata": {
        "id": "KY73D9Zbmi2p",
        "outputId": "9c09b815-897b-411f-858c-e6201b26b636"
      },
      "source": [
        "plt.plot(x, y)"
      ],
      "execution_count": null,
      "outputs": [
        {
          "output_type": "execute_result",
          "data": {
            "text/plain": [
              "[<matplotlib.lines.Line2D at 0x234f8991cd0>]"
            ]
          },
          "metadata": {
            "tags": []
          },
          "execution_count": 4
        },
        {
          "output_type": "display_data",
          "data": {
            "image/png": "[encoded data removed]",
            "text/plain": [
              "<Figure size 432x288 with 1 Axes>"
            ]
          },
          "metadata": {
            "tags": [],
            "needs_background": "light"
          }
        }
      ]
    },
    {
      "cell_type": "code",
      "metadata": {
        "id": "YsLiRjMFmi2r",
        "outputId": "ba960107-2d33-4b68-a5cb-96ba1e9c542a"
      },
      "source": [
        "len(x)"
      ],
      "execution_count": null,
      "outputs": [
        {
          "output_type": "execute_result",
          "data": {
            "text/plain": [
              "85"
            ]
          },
          "metadata": {
            "tags": []
          },
          "execution_count": 5
        }
      ]
    },
    {
      "cell_type": "code",
      "metadata": {
        "id": "AQbpQukBmi2r",
        "outputId": "bdd860a4-dd7d-4c20-9c45-eac6b5fe5b50"
      },
      "source": [
        "raw_dataset = pd.DataFrame.from_dict(dict(zip(x.tolist(), y.tolist())), orient='index').reset_index()\n",
        "raw_dataset.columns = ['x', 'y']\n",
        "raw_dataset = raw_dataset[[\"y\", \"x\"]]\n",
        "raw_dataset.head(5)"
      ],
      "execution_count": null,
      "outputs": [
        {
          "output_type": "execute_result",
          "data": {
            "text/html": [
              "<div>\n",
              "<style scoped>\n",
              "    .dataframe tbody tr th:only-of-type {\n",
              "        vertical-align: middle;\n",
              "    }\n",
              "\n",
              "    .dataframe tbody tr th {\n",
              "        vertical-align: top;\n",
              "    }\n",
              "\n",
              "    .dataframe thead th {\n",
              "        text-align: right;\n",
              "    }\n",
              "</style>\n",
              "<table border=\"1\" class=\"dataframe\">\n",
              "  <thead>\n",
              "    <tr style=\"text-align: right;\">\n",
              "      <th></th>\n",
              "      <th>y</th>\n",
              "      <th>x</th>\n",
              "    </tr>\n",
              "  </thead>\n",
              "  <tbody>\n",
              "    <tr>\n",
              "      <th>0</th>\n",
              "      <td>-0.165349</td>\n",
              "      <td>3.1</td>\n",
              "    </tr>\n",
              "    <tr>\n",
              "      <th>1</th>\n",
              "      <td>1.217487</td>\n",
              "      <td>3.3</td>\n",
              "    </tr>\n",
              "    <tr>\n",
              "      <th>2</th>\n",
              "      <td>2.404158</td>\n",
              "      <td>3.5</td>\n",
              "    </tr>\n",
              "    <tr>\n",
              "      <th>3</th>\n",
              "      <td>3.345047</td>\n",
              "      <td>3.7</td>\n",
              "    </tr>\n",
              "    <tr>\n",
              "      <th>4</th>\n",
              "      <td>3.996026</td>\n",
              "      <td>3.9</td>\n",
              "    </tr>\n",
              "  </tbody>\n",
              "</table>\n",
              "</div>"
            ],
            "text/plain": [
              "          y    x\n",
              "0 -0.165349  3.1\n",
              "1  1.217487  3.3\n",
              "2  2.404158  3.5\n",
              "3  3.345047  3.7\n",
              "4  3.996026  3.9"
            ]
          },
          "metadata": {
            "tags": []
          },
          "execution_count": 6
        }
      ]
    },
    {
      "cell_type": "code",
      "metadata": {
        "id": "4xH7tw-Gmi2s"
      },
      "source": [
        "def create_shifted_df(df,shift):\n",
        "    shifted_df = pd.concat([df, df.shift(shift)[['y']]], axis=1)\n",
        "    shifted_df.columns = [\"y\", \"x\", \"y_\"+str(shift)]\n",
        "    shifted_df = shifted_df[[\"y_\"+str(shift)]]\n",
        "    return shifted_df.dropna()"
      ],
      "execution_count": null,
      "outputs": []
    },
    {
      "cell_type": "code",
      "metadata": {
        "id": "NYCDauJymi2t"
      },
      "source": [
        "test_df = raw_dataset\n",
        "for i in range(1, 6):\n",
        "    test_df = pd.concat([test_df, create_shifted_df(raw_dataset, i)], axis=1)"
      ],
      "execution_count": null,
      "outputs": []
    },
    {
      "cell_type": "code",
      "metadata": {
        "scrolled": true,
        "id": "CWiKz9mLmi2u",
        "outputId": "584a5d9e-5033-49aa-ee7b-74d0f28fd8df"
      },
      "source": [
        "test_df = test_df.dropna()\n",
        "test_df.head(5)"
      ],
      "execution_count": null,
      "outputs": [
        {
          "output_type": "execute_result",
          "data": {
            "text/html": [
              "<div>\n",
              "<style scoped>\n",
              "    .dataframe tbody tr th:only-of-type {\n",
              "        vertical-align: middle;\n",
              "    }\n",
              "\n",
              "    .dataframe tbody tr th {\n",
              "        vertical-align: top;\n",
              "    }\n",
              "\n",
              "    .dataframe thead th {\n",
              "        text-align: right;\n",
              "    }\n",
              "</style>\n",
              "<table border=\"1\" class=\"dataframe\">\n",
              "  <thead>\n",
              "    <tr style=\"text-align: right;\">\n",
              "      <th></th>\n",
              "      <th>y</th>\n",
              "      <th>x</th>\n",
              "      <th>y_1</th>\n",
              "      <th>y_2</th>\n",
              "      <th>y_3</th>\n",
              "      <th>y_4</th>\n",
              "      <th>y_5</th>\n",
              "    </tr>\n",
              "  </thead>\n",
              "  <tbody>\n",
              "    <tr>\n",
              "      <th>5</th>\n",
              "      <td>4.047101</td>\n",
              "      <td>4.1</td>\n",
              "      <td>3.996026</td>\n",
              "      <td>3.345047</td>\n",
              "      <td>2.404158</td>\n",
              "      <td>1.217487</td>\n",
              "      <td>-0.165349</td>\n",
              "    </tr>\n",
              "    <tr>\n",
              "      <th>6</th>\n",
              "      <td>3.241412</td>\n",
              "      <td>4.3</td>\n",
              "      <td>4.047101</td>\n",
              "      <td>3.996026</td>\n",
              "      <td>3.345047</td>\n",
              "      <td>2.404158</td>\n",
              "      <td>1.217487</td>\n",
              "    </tr>\n",
              "    <tr>\n",
              "      <th>7</th>\n",
              "      <td>1.999863</td>\n",
              "      <td>4.5</td>\n",
              "      <td>3.241412</td>\n",
              "      <td>4.047101</td>\n",
              "      <td>3.996026</td>\n",
              "      <td>3.345047</td>\n",
              "      <td>2.404158</td>\n",
              "    </tr>\n",
              "    <tr>\n",
              "      <th>8</th>\n",
              "      <td>0.268352</td>\n",
              "      <td>4.7</td>\n",
              "      <td>1.999863</td>\n",
              "      <td>3.241412</td>\n",
              "      <td>4.047101</td>\n",
              "      <td>3.996026</td>\n",
              "      <td>3.345047</td>\n",
              "    </tr>\n",
              "    <tr>\n",
              "      <th>9</th>\n",
              "      <td>-1.643237</td>\n",
              "      <td>4.9</td>\n",
              "      <td>0.268352</td>\n",
              "      <td>1.999863</td>\n",
              "      <td>3.241412</td>\n",
              "      <td>4.047101</td>\n",
              "      <td>3.996026</td>\n",
              "    </tr>\n",
              "  </tbody>\n",
              "</table>\n",
              "</div>"
            ],
            "text/plain": [
              "          y    x       y_1       y_2       y_3       y_4       y_5\n",
              "5  4.047101  4.1  3.996026  3.345047  2.404158  1.217487 -0.165349\n",
              "6  3.241412  4.3  4.047101  3.996026  3.345047  2.404158  1.217487\n",
              "7  1.999863  4.5  3.241412  4.047101  3.996026  3.345047  2.404158\n",
              "8  0.268352  4.7  1.999863  3.241412  4.047101  3.996026  3.345047\n",
              "9 -1.643237  4.9  0.268352  1.999863  3.241412  4.047101  3.996026"
            ]
          },
          "metadata": {
            "tags": []
          },
          "execution_count": 9
        }
      ]
    },
    {
      "cell_type": "code",
      "metadata": {
        "id": "swQZA5J7mi2v",
        "outputId": "c75249a9-2b74-4eb6-e598-acea622d21e2"
      },
      "source": [
        "test_df.shape"
      ],
      "execution_count": null,
      "outputs": [
        {
          "output_type": "execute_result",
          "data": {
            "text/plain": [
              "(80, 7)"
            ]
          },
          "metadata": {
            "tags": []
          },
          "execution_count": 10
        }
      ]
    },
    {
      "cell_type": "code",
      "metadata": {
        "id": "QoaLPY91mi2w",
        "outputId": "9c040156-6023-4a54-9dc9-882189325050"
      },
      "source": [
        "test_df.tail(5)"
      ],
      "execution_count": null,
      "outputs": [
        {
          "output_type": "execute_result",
          "data": {
            "text/html": [
              "<div>\n",
              "<style scoped>\n",
              "    .dataframe tbody tr th:only-of-type {\n",
              "        vertical-align: middle;\n",
              "    }\n",
              "\n",
              "    .dataframe tbody tr th {\n",
              "        vertical-align: top;\n",
              "    }\n",
              "\n",
              "    .dataframe thead th {\n",
              "        text-align: right;\n",
              "    }\n",
              "</style>\n",
              "<table border=\"1\" class=\"dataframe\">\n",
              "  <thead>\n",
              "    <tr style=\"text-align: right;\">\n",
              "      <th></th>\n",
              "      <th>y</th>\n",
              "      <th>x</th>\n",
              "      <th>y_1</th>\n",
              "      <th>y_2</th>\n",
              "      <th>y_3</th>\n",
              "      <th>y_4</th>\n",
              "      <th>y_5</th>\n",
              "    </tr>\n",
              "  </thead>\n",
              "  <tbody>\n",
              "    <tr>\n",
              "      <th>80</th>\n",
              "      <td>9.305892</td>\n",
              "      <td>19.1</td>\n",
              "      <td>2.052720</td>\n",
              "      <td>-5.453945</td>\n",
              "      <td>-11.832672</td>\n",
              "      <td>-16.220601</td>\n",
              "      <td>-17.938274</td>\n",
              "    </tr>\n",
              "    <tr>\n",
              "      <th>81</th>\n",
              "      <td>15.304517</td>\n",
              "      <td>19.3</td>\n",
              "      <td>9.305892</td>\n",
              "      <td>2.052720</td>\n",
              "      <td>-5.453945</td>\n",
              "      <td>-11.832672</td>\n",
              "      <td>-16.220601</td>\n",
              "    </tr>\n",
              "    <tr>\n",
              "      <th>82</th>\n",
              "      <td>18.910674</td>\n",
              "      <td>19.5</td>\n",
              "      <td>15.304517</td>\n",
              "      <td>9.305892</td>\n",
              "      <td>2.052720</td>\n",
              "      <td>-5.453945</td>\n",
              "      <td>-11.832672</td>\n",
              "    </tr>\n",
              "    <tr>\n",
              "      <th>83</th>\n",
              "      <td>19.614028</td>\n",
              "      <td>19.7</td>\n",
              "      <td>18.910674</td>\n",
              "      <td>15.304517</td>\n",
              "      <td>9.305892</td>\n",
              "      <td>2.052720</td>\n",
              "      <td>-5.453945</td>\n",
              "    </tr>\n",
              "    <tr>\n",
              "      <th>84</th>\n",
              "      <td>17.171458</td>\n",
              "      <td>19.9</td>\n",
              "      <td>19.614028</td>\n",
              "      <td>18.910674</td>\n",
              "      <td>15.304517</td>\n",
              "      <td>9.305892</td>\n",
              "      <td>2.052720</td>\n",
              "    </tr>\n",
              "  </tbody>\n",
              "</table>\n",
              "</div>"
            ],
            "text/plain": [
              "            y     x        y_1        y_2        y_3        y_4        y_5\n",
              "80   9.305892  19.1   2.052720  -5.453945 -11.832672 -16.220601 -17.938274\n",
              "81  15.304517  19.3   9.305892   2.052720  -5.453945 -11.832672 -16.220601\n",
              "82  18.910674  19.5  15.304517   9.305892   2.052720  -5.453945 -11.832672\n",
              "83  19.614028  19.7  18.910674  15.304517   9.305892   2.052720  -5.453945\n",
              "84  17.171458  19.9  19.614028  18.910674  15.304517   9.305892   2.052720"
            ]
          },
          "metadata": {
            "tags": []
          },
          "execution_count": 11
        }
      ]
    },
    {
      "cell_type": "code",
      "metadata": {
        "id": "5W2NaC6Wmi2w",
        "outputId": "7951ed6a-afa4-458e-942f-50d398be80f8"
      },
      "source": [
        "y = test_df.y\n",
        "y.head(3)"
      ],
      "execution_count": null,
      "outputs": [
        {
          "output_type": "execute_result",
          "data": {
            "text/plain": [
              "5    4.047101\n",
              "6    3.241412\n",
              "7    1.999863\n",
              "Name: y, dtype: float64"
            ]
          },
          "metadata": {
            "tags": []
          },
          "execution_count": 12
        }
      ]
    },
    {
      "cell_type": "code",
      "metadata": {
        "id": "ZMKJQNHDmi2w",
        "outputId": "1f828507-74ee-45a5-a6ab-89c8321c069d"
      },
      "source": [
        "X = test_df.drop(['y'], axis=1)\n",
        "X.columns = [\"x\",\"y1\",\"y2\",\"y3\",\"y4\",\"y5\"]\n",
        "X.head(3)"
      ],
      "execution_count": null,
      "outputs": [
        {
          "output_type": "execute_result",
          "data": {
            "text/html": [
              "<div>\n",
              "<style scoped>\n",
              "    .dataframe tbody tr th:only-of-type {\n",
              "        vertical-align: middle;\n",
              "    }\n",
              "\n",
              "    .dataframe tbody tr th {\n",
              "        vertical-align: top;\n",
              "    }\n",
              "\n",
              "    .dataframe thead th {\n",
              "        text-align: right;\n",
              "    }\n",
              "</style>\n",
              "<table border=\"1\" class=\"dataframe\">\n",
              "  <thead>\n",
              "    <tr style=\"text-align: right;\">\n",
              "      <th></th>\n",
              "      <th>x</th>\n",
              "      <th>y1</th>\n",
              "      <th>y2</th>\n",
              "      <th>y3</th>\n",
              "      <th>y4</th>\n",
              "      <th>y5</th>\n",
              "    </tr>\n",
              "  </thead>\n",
              "  <tbody>\n",
              "    <tr>\n",
              "      <th>5</th>\n",
              "      <td>4.1</td>\n",
              "      <td>3.996026</td>\n",
              "      <td>3.345047</td>\n",
              "      <td>2.404158</td>\n",
              "      <td>1.217487</td>\n",
              "      <td>-0.165349</td>\n",
              "    </tr>\n",
              "    <tr>\n",
              "      <th>6</th>\n",
              "      <td>4.3</td>\n",
              "      <td>4.047101</td>\n",
              "      <td>3.996026</td>\n",
              "      <td>3.345047</td>\n",
              "      <td>2.404158</td>\n",
              "      <td>1.217487</td>\n",
              "    </tr>\n",
              "    <tr>\n",
              "      <th>7</th>\n",
              "      <td>4.5</td>\n",
              "      <td>3.241412</td>\n",
              "      <td>4.047101</td>\n",
              "      <td>3.996026</td>\n",
              "      <td>3.345047</td>\n",
              "      <td>2.404158</td>\n",
              "    </tr>\n",
              "  </tbody>\n",
              "</table>\n",
              "</div>"
            ],
            "text/plain": [
              "     x        y1        y2        y3        y4        y5\n",
              "5  4.1  3.996026  3.345047  2.404158  1.217487 -0.165349\n",
              "6  4.3  4.047101  3.996026  3.345047  2.404158  1.217487\n",
              "7  4.5  3.241412  4.047101  3.996026  3.345047  2.404158"
            ]
          },
          "metadata": {
            "tags": []
          },
          "execution_count": 13
        }
      ]
    },
    {
      "cell_type": "code",
      "metadata": {
        "id": "ODDbkYgXmi2x"
      },
      "source": [
        "X_train, X_test, y_train, y_test = train_test_split(X, y, test_size=0.33, shuffle=False)"
      ],
      "execution_count": null,
      "outputs": []
    },
    {
      "cell_type": "code",
      "metadata": {
        "id": "3rSwZh_8mi2x",
        "outputId": "9d0a0abd-598e-436c-c7fb-a3aa67f693f6"
      },
      "source": [
        "X_train.shape"
      ],
      "execution_count": null,
      "outputs": [
        {
          "output_type": "execute_result",
          "data": {
            "text/plain": [
              "(53, 6)"
            ]
          },
          "metadata": {
            "tags": []
          },
          "execution_count": 15
        }
      ]
    },
    {
      "cell_type": "code",
      "metadata": {
        "id": "KruAhNG-mi2y",
        "outputId": "4e3354ba-a899-4327-e948-7e1b72013fc2"
      },
      "source": [
        "plt.plot(X_train.x, y_train)\n",
        "plt.plot(X_test.x, y_test)"
      ],
      "execution_count": null,
      "outputs": [
        {
          "output_type": "execute_result",
          "data": {
            "text/plain": [
              "[<matplotlib.lines.Line2D at 0x234f8b79880>]"
            ]
          },
          "metadata": {
            "tags": []
          },
          "execution_count": 16
        },
        {
          "output_type": "display_data",
          "data": {
            "image/png": "[encoded data removed]",
            "text/plain": [
              "<Figure size 432x288 with 1 Axes>"
            ]
          },
          "metadata": {
            "tags": [],
            "needs_background": "light"
          }
        }
      ]
    },
    {
      "cell_type": "markdown",
      "metadata": {
        "id": "YTGpyY7Dmi2y"
      },
      "source": [
        "# Modeling"
      ]
    },
    {
      "cell_type": "code",
      "metadata": {
        "id": "tIog3Y4Qmi2y"
      },
      "source": [
        "import tensorflow as tf\n",
        "from tensorflow import keras\n",
        "from tensorflow.keras import layers\n",
        "from tensorflow.keras import activations"
      ],
      "execution_count": null,
      "outputs": []
    },
    {
      "cell_type": "code",
      "metadata": {
        "id": "1tiELmKJmi2y",
        "outputId": "ecc8b6af-43e6-4efb-c69c-3e4909075915"
      },
      "source": [
        "# [samples, time steps, features]\n",
        "ds = tf.keras.preprocessing.timeseries_dataset_from_array(data=X_train.drop(['x'], axis=1), # x was droped\n",
        "                                                     targets=y_train,\n",
        "                                                    sequence_length=1)\n",
        "x, y = next(iter(ds))\n",
        "x.shape[1:]"
      ],
      "execution_count": null,
      "outputs": [
        {
          "output_type": "execute_result",
          "data": {
            "text/plain": [
              "TensorShape([1, 5])"
            ]
          },
          "metadata": {
            "tags": []
          },
          "execution_count": 18
        }
      ]
    },
    {
      "cell_type": "code",
      "metadata": {
        "id": "cim3JFqQmi2z",
        "outputId": "d76ac459-331d-472a-cb43-0201d6881789"
      },
      "source": [
        "model = tf.keras.models.Sequential()\n",
        "model.add(layers.LSTM(700, input_shape=x.shape[1:], activation='tanh', return_sequences=True))\n",
        "model.add(layers.Dropout(0.2))\n",
        "model.add(layers.Dense(1, activation='linear'))\n",
        "model.summary()"
      ],
      "execution_count": null,
      "outputs": [
        {
          "output_type": "stream",
          "text": [
            "Model: \"sequential\"\n",
            "_________________________________________________________________\n",
            "Layer (type)                 Output Shape              Param #   \n",
            "=================================================================\n",
            "lstm (LSTM)                  (None, 1, 700)            1976800   \n",
            "_________________________________________________________________\n",
            "dropout (Dropout)            (None, 1, 700)            0         \n",
            "_________________________________________________________________\n",
            "dense (Dense)                (None, 1, 1)              701       \n",
            "=================================================================\n",
            "Total params: 1,977,501\n",
            "Trainable params: 1,977,501\n",
            "Non-trainable params: 0\n",
            "_________________________________________________________________\n"
          ],
          "name": "stdout"
        }
      ]
    },
    {
      "cell_type": "code",
      "metadata": {
        "id": "tjN3jXSRmi2z"
      },
      "source": [
        "model.compile(loss='mean_squared_error', optimizer=\"adam\", metrics=\"mean_absolute_error\")"
      ],
      "execution_count": null,
      "outputs": []
    },
    {
      "cell_type": "code",
      "metadata": {
        "id": "262_hfAZmi2z"
      },
      "source": [
        "l_history = model.fit(x, y, epochs=7000)"
      ],
      "execution_count": null,
      "outputs": []
    },
    {
      "cell_type": "markdown",
      "metadata": {
        "id": "qd3Mtaanmi20"
      },
      "source": [
        "# Evaluation"
      ]
    },
    {
      "cell_type": "code",
      "metadata": {
        "id": "Z-qFg4Tumi20",
        "outputId": "c07fc45b-b9f6-4b77-fda3-286116bb1a84"
      },
      "source": [
        "y_pred = model.predict(X_test.drop('x', axis=1).to_numpy().reshape(X_test.shape[0],1,X_test.shape[1]-1)).reshape(X_test.shape[0])\n",
        "y_pred"
      ],
      "execution_count": null,
      "outputs": [
        {
          "output_type": "execute_result",
          "data": {
            "text/plain": [
              "array([-12.671094  , -13.964843  , -13.579772  , -10.968188  ,\n",
              "        -6.415969  ,  -0.35846546,   5.904522  ,  11.2642765 ,\n",
              "        15.021201  ,  15.9130945 ,  14.894861  ,  11.553034  ,\n",
              "         6.285661  ,  -0.64560974,  -7.623312  , -12.686525  ,\n",
              "       -15.107612  , -15.826831  , -14.850017  , -11.664974  ,\n",
              "        -5.781737  ,   1.8105255 ,   9.119691  ,  14.743664  ,\n",
              "        17.751518  ,  17.975653  ,  16.027935  ], dtype=float32)"
            ]
          },
          "metadata": {
            "tags": []
          },
          "execution_count": 22
        }
      ]
    },
    {
      "cell_type": "code",
      "metadata": {
        "id": "bxXAYhu_mi20",
        "outputId": "33a0f473-800f-47b7-ee51-5bb13ac2f7b3"
      },
      "source": [
        "plt.plot(X_train.x, y_train)\n",
        "plt.plot(X_test.x, y_pred)\n",
        "plt.plot(X_test.x, y_test)"
      ],
      "execution_count": null,
      "outputs": [
        {
          "output_type": "execute_result",
          "data": {
            "text/plain": [
              "[<matplotlib.lines.Line2D at 0x2348d665730>]"
            ]
          },
          "metadata": {
            "tags": []
          },
          "execution_count": 23
        },
        {
          "output_type": "display_data",
          "data": {
            "image/png": "[encoded data removed]",
            "text/plain": [
              "<Figure size 432x288 with 1 Axes>"
            ]
          },
          "metadata": {
            "tags": [],
            "needs_background": "light"
          }
        }
      ]
    },
    {
      "cell_type": "markdown",
      "metadata": {
        "id": "MjLO2Hgjmi21"
      },
      "source": [
        "# Validate"
      ]
    },
    {
      "cell_type": "code",
      "metadata": {
        "id": "XhsYcjvjmi21"
      },
      "source": [
        "# x_validate = np.arange(3.1, 30, 0.2)\n",
        "# # Our function\n",
        "# y_validate = (np.sin(2*x_validate) * x_validate) + np.random.rand(x_validate.size) * 0.2\n",
        "# val_dataset = pd.DataFrame.from_dict(dict(zip(x_validate.tolist(), y_validate.tolist())), orient='index').reset_index()\n",
        "# val_dataset.columns = ['x', 'y']\n",
        "# val_dataset = val_dataset[[\"y\", \"x\"]]\n",
        "# test_val = val_dataset\n",
        "# for i in range(1, 6):\n",
        "#     test_val = pd.concat([test_val, create_shifted_df(val_dataset, i)], axis=1)\n",
        "# test_val = test_val.dropna()\n",
        "# val_df = test_val.tail(40)\n",
        "# val_df.head(3)"
      ],
      "execution_count": null,
      "outputs": []
    },
    {
      "cell_type": "code",
      "metadata": {
        "id": "3wdEfJ1jmi21"
      },
      "source": [
        "# y_val_pred = model.predict(val_df.drop(['y','x'], axis=1).to_numpy().reshape(val_df.shape[0],1,val_df.shape[1]-2)).reshape(val_df.shape[0])\n",
        "# y_val_pred"
      ],
      "execution_count": null,
      "outputs": []
    },
    {
      "cell_type": "code",
      "metadata": {
        "id": "5qse5elgmi21"
      },
      "source": [
        "# plt.plot(test_val.x, test_val.y)\n",
        "# plt.plot(val_df.x, y_val_pred)"
      ],
      "execution_count": null,
      "outputs": []
    }
  ]
}
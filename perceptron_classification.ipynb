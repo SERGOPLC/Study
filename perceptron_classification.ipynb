{
 "cells": [
  {
   "cell_type": "code",
   "execution_count": 1,
   "metadata": {
    "id": "099jZgfPnUfS"
   },
   "outputs": [],
   "source": [
    "#импорт библиотек\n",
    "import matplotlib.pyplot as plt\n",
    "from sklearn.neural_network import MLPClassifier\n",
    "import pandas as pd\n",
    "from itertools import product\n",
    "from mlxtend.plotting import plot_decision_regions\n",
    "import numpy as np"
   ]
  },
  {
   "cell_type": "code",
   "execution_count": 2,
   "metadata": {
    "colab": {
     "base_uri": "https://localhost:8080/",
     "height": 142
    },
    "id": "1N4k_K-5n9IE",
    "outputId": "09d8836a-737b-42b8-d45c-d7a07d8c6187"
   },
   "outputs": [
    {
     "data": {
      "text/html": [
       "<div>\n",
       "<style scoped>\n",
       "    .dataframe tbody tr th:only-of-type {\n",
       "        vertical-align: middle;\n",
       "    }\n",
       "\n",
       "    .dataframe tbody tr th {\n",
       "        vertical-align: top;\n",
       "    }\n",
       "\n",
       "    .dataframe thead th {\n",
       "        text-align: right;\n",
       "    }\n",
       "</style>\n",
       "<table border=\"1\" class=\"dataframe\">\n",
       "  <thead>\n",
       "    <tr style=\"text-align: right;\">\n",
       "      <th></th>\n",
       "      <th>X</th>\n",
       "      <th>Y</th>\n",
       "      <th>label</th>\n",
       "    </tr>\n",
       "  </thead>\n",
       "  <tbody>\n",
       "    <tr>\n",
       "      <th>0</th>\n",
       "      <td>1</td>\n",
       "      <td>0</td>\n",
       "      <td>0</td>\n",
       "    </tr>\n",
       "    <tr>\n",
       "      <th>1</th>\n",
       "      <td>-1</td>\n",
       "      <td>1</td>\n",
       "      <td>1</td>\n",
       "    </tr>\n",
       "    <tr>\n",
       "      <th>2</th>\n",
       "      <td>-1</td>\n",
       "      <td>-1</td>\n",
       "      <td>1</td>\n",
       "    </tr>\n",
       "  </tbody>\n",
       "</table>\n",
       "</div>"
      ],
      "text/plain": [
       "   X  Y  label\n",
       "0  1  0      0\n",
       "1 -1  1      1\n",
       "2 -1 -1      1"
      ]
     },
     "execution_count": 2,
     "metadata": {},
     "output_type": "execute_result"
    }
   ],
   "source": [
    "#Проверочные данные\n",
    "X_test = [[1, 0], [-1, 1], [-1, -1]]\n",
    "Y_test = [0, 1, 1]\n",
    "df_test = pd.DataFrame(X_test, columns=['X', 'Y'])\n",
    "df_test['label'] = Y_test\n",
    "#Проверочные данные в табличном виде\n",
    "df_test"
   ]
  },
  {
   "cell_type": "code",
   "execution_count": 3,
   "metadata": {
    "colab": {
     "base_uri": "https://localhost:8080/",
     "height": 308
    },
    "id": "N0nGqTIyqhmo",
    "outputId": "9ee2cf25-dc13-4ed3-ba22-833ff43091bb"
   },
   "outputs": [
    {
     "data": {
      "image/png": "[encoded data removed]",
      "text/plain": [
       "<Figure size 432x288 with 1 Axes>"
      ]
     },
     "metadata": {
      "needs_background": "light"
     },
     "output_type": "display_data"
    }
   ],
   "source": [
    "#Отображение проверочных данных\n",
    "plt.axis([-10, 10, -10, 10])\n",
    "tmp = X_test[1] + X_test[2]\n",
    "plt.plot(X_test[0][0], X_test[0][1], 'y^')\n",
    "plt.plot(tmp[0::2], tmp[1::2], 'bs')\n",
    "plt.xlabel('x')\n",
    "plt.ylabel('y')\n",
    "plt.suptitle('точки проверочного множества')\n",
    "plt.grid()"
   ]
  },
  {
   "cell_type": "code",
   "execution_count": 4,
   "metadata": {
    "colab": {
     "base_uri": "https://localhost:8080/",
     "height": 421
    },
    "id": "Zn6Trp8d9j9-",
    "outputId": "4b599519-7f53-4e69-ea40-9be5a57a8e53"
   },
   "outputs": [
    {
     "data": {
      "text/html": [
       "<div>\n",
       "<style scoped>\n",
       "    .dataframe tbody tr th:only-of-type {\n",
       "        vertical-align: middle;\n",
       "    }\n",
       "\n",
       "    .dataframe tbody tr th {\n",
       "        vertical-align: top;\n",
       "    }\n",
       "\n",
       "    .dataframe thead th {\n",
       "        text-align: right;\n",
       "    }\n",
       "</style>\n",
       "<table border=\"1\" class=\"dataframe\">\n",
       "  <thead>\n",
       "    <tr style=\"text-align: right;\">\n",
       "      <th></th>\n",
       "      <th>X</th>\n",
       "      <th>Y</th>\n",
       "      <th>label</th>\n",
       "    </tr>\n",
       "  </thead>\n",
       "  <tbody>\n",
       "    <tr>\n",
       "      <th>0</th>\n",
       "      <td>-1.0</td>\n",
       "      <td>0.0</td>\n",
       "      <td>0</td>\n",
       "    </tr>\n",
       "    <tr>\n",
       "      <th>1</th>\n",
       "      <td>-2.5</td>\n",
       "      <td>-2.0</td>\n",
       "      <td>0</td>\n",
       "    </tr>\n",
       "    <tr>\n",
       "      <th>2</th>\n",
       "      <td>-2.5</td>\n",
       "      <td>2.5</td>\n",
       "      <td>0</td>\n",
       "    </tr>\n",
       "    <tr>\n",
       "      <th>3</th>\n",
       "      <td>1.0</td>\n",
       "      <td>3.0</td>\n",
       "      <td>1</td>\n",
       "    </tr>\n",
       "    <tr>\n",
       "      <th>4</th>\n",
       "      <td>1.0</td>\n",
       "      <td>1.0</td>\n",
       "      <td>1</td>\n",
       "    </tr>\n",
       "    <tr>\n",
       "      <th>5</th>\n",
       "      <td>2.5</td>\n",
       "      <td>0.0</td>\n",
       "      <td>1</td>\n",
       "    </tr>\n",
       "    <tr>\n",
       "      <th>6</th>\n",
       "      <td>-2.5</td>\n",
       "      <td>-5.0</td>\n",
       "      <td>2</td>\n",
       "    </tr>\n",
       "    <tr>\n",
       "      <th>7</th>\n",
       "      <td>-2.0</td>\n",
       "      <td>-7.0</td>\n",
       "      <td>2</td>\n",
       "    </tr>\n",
       "    <tr>\n",
       "      <th>8</th>\n",
       "      <td>-5.0</td>\n",
       "      <td>-5.0</td>\n",
       "      <td>2</td>\n",
       "    </tr>\n",
       "    <tr>\n",
       "      <th>9</th>\n",
       "      <td>1.0</td>\n",
       "      <td>-5.0</td>\n",
       "      <td>3</td>\n",
       "    </tr>\n",
       "    <tr>\n",
       "      <th>10</th>\n",
       "      <td>2.5</td>\n",
       "      <td>-6.0</td>\n",
       "      <td>3</td>\n",
       "    </tr>\n",
       "    <tr>\n",
       "      <th>11</th>\n",
       "      <td>7.5</td>\n",
       "      <td>-3.0</td>\n",
       "      <td>3</td>\n",
       "    </tr>\n",
       "  </tbody>\n",
       "</table>\n",
       "</div>"
      ],
      "text/plain": [
       "      X    Y  label\n",
       "0  -1.0  0.0      0\n",
       "1  -2.5 -2.0      0\n",
       "2  -2.5  2.5      0\n",
       "3   1.0  3.0      1\n",
       "4   1.0  1.0      1\n",
       "5   2.5  0.0      1\n",
       "6  -2.5 -5.0      2\n",
       "7  -2.0 -7.0      2\n",
       "8  -5.0 -5.0      2\n",
       "9   1.0 -5.0      3\n",
       "10  2.5 -6.0      3\n",
       "11  7.5 -3.0      3"
      ]
     },
     "execution_count": 4,
     "metadata": {},
     "output_type": "execute_result"
    }
   ],
   "source": [
    "#Обучающие данные\n",
    "X_train = [[-1, 0], [-2.5, -2], [-2.5, 2.5], [1, 3], [1, 1], [2.5, 0], [-2.5, -5], [-2, -7], [-5, -5], [1, -5], [2.5, -6],\n",
    "          [7.5, -3]]\n",
    "Y_train = [0, 0, 0, 1, 1, 1, 2, 2, 2, 3, 3, 3]\n",
    "\n",
    "#Обучающие данные в табличном виде\n",
    "df_train = pd.DataFrame(X_train, columns=['X', 'Y'])\n",
    "df_train['label'] = Y_train\n",
    "df_train"
   ]
  },
  {
   "cell_type": "code",
   "execution_count": 5,
   "metadata": {
    "colab": {
     "base_uri": "https://localhost:8080/",
     "height": 308
    },
    "id": "svV175XwrOtW",
    "outputId": "6b12890e-0d05-4f26-9368-f96af9565cd7"
   },
   "outputs": [
    {
     "data": {
      "image/png": "[encoded data removed]",
      "text/plain": [
       "<Figure size 432x288 with 1 Axes>"
      ]
     },
     "metadata": {
      "needs_background": "light"
     },
     "output_type": "display_data"
    }
   ],
   "source": [
    "#Отображение обучающих данных\n",
    "plt.axis([-10, 10, -10, 10])\n",
    "cl0 = X_train[0:3]\n",
    "cl1 = X_train[3:6]\n",
    "cl2 = X_train[6:9]\n",
    "cl3 = X_train[9:12]\n",
    "plt.plot([cl0[0][0], cl0[1][0], cl0[2][0]],[cl0[0][1], cl0[1][1], cl0[2][1]], 'bs')\n",
    "plt.plot([cl1[0][0], cl1[1][0], cl1[2][0]],[cl1[0][1], cl1[1][1], cl1[2][1]],'y^')\n",
    "plt.plot([cl2[0][0], cl2[1][0], cl2[2][0]],[cl2[0][1], cl2[1][1], cl2[2][1]], 'go')\n",
    "plt.plot([cl3[0][0], cl3[1][0], cl3[2][0]],[cl3[0][1], cl3[1][1], cl3[2][1]],'rx')\n",
    "plt.xlabel('x')\n",
    "plt.ylabel('y')\n",
    "plt.suptitle('точки обучающего множества')\n",
    "plt.grid()"
   ]
  },
  {
   "cell_type": "code",
   "execution_count": 6,
   "metadata": {
    "colab": {
     "base_uri": "https://localhost:8080/"
    },
    "id": "jRY13YHQNtPT",
    "outputId": "3fbf43c9-3edf-4444-e369-3efe38454b2d"
   },
   "outputs": [
    {
     "name": "stderr",
     "output_type": "stream",
     "text": [
      "C:\\Users\\Sergey\\anaconda3\\lib\\site-packages\\sklearn\\neural_network\\_multilayer_perceptron.py:582: ConvergenceWarning: Stochastic Optimizer: Maximum iterations (100) reached and the optimization hasn't converged yet.\n",
      "  warnings.warn(\n"
     ]
    }
   ],
   "source": [
    "#Создаем и обучаем классификатор\n",
    "clf = MLPClassifier(random_state = 1, max_iter = 100).fit(X_train, Y_train)"
   ]
  },
  {
   "cell_type": "code",
   "execution_count": 7,
   "metadata": {
    "colab": {
     "base_uri": "https://localhost:8080/"
    },
    "id": "BXIpJPyhOM6p",
    "outputId": "782123e7-79cd-471d-8b29-f620937832d5"
   },
   "outputs": [
    {
     "data": {
      "text/plain": [
       "array([1, 0, 0])"
      ]
     },
     "execution_count": 7,
     "metadata": {},
     "output_type": "execute_result"
    }
   ],
   "source": [
    "#Предсказываем классы наших тестовых данных (Вариант 4)\n",
    "clf.predict(X_test)"
   ]
  },
  {
   "cell_type": "code",
   "execution_count": 8,
   "metadata": {
    "id": "0atKGHNtrffP"
   },
   "outputs": [],
   "source": [
    "score = clf.score(X_train, Y_train)"
   ]
  },
  {
   "cell_type": "code",
   "execution_count": 9,
   "metadata": {
    "colab": {
     "base_uri": "https://localhost:8080/",
     "height": 303
    },
    "id": "EvPW7DcXr4Ak",
    "outputId": "0be0e475-7468-4a54-e03c-967213450954"
   },
   "outputs": [
    {
     "data": {
      "image/png": "[encoded data removed]",
      "text/plain": [
       "<Figure size 432x288 with 1 Axes>"
      ]
     },
     "metadata": {
      "needs_background": "light"
     },
     "output_type": "display_data"
    }
   ],
   "source": [
    "#Визуализация классификации\n",
    "plot_decision_regions(np.array(X_train), np.array(Y_train), clf=clf, legend=2)\n",
    "\n",
    "plt.show()"
   ]
  }
 ],
 "metadata": {
  "colab": {
   "name": "Untitled2.ipynb",
   "provenance": []
  },
  "kernelspec": {
   "display_name": "Python 3",
   "language": "python",
   "name": "python3"
  },
  "language_info": {
   "codemirror_mode": {
    "name": "ipython",
    "version": 3
   },
   "file_extension": ".py",
   "mimetype": "text/x-python",
   "name": "python",
   "nbconvert_exporter": "python",
   "pygments_lexer": "ipython3",
   "version": "3.8.5"
  }
 },
 "nbformat": 4,
 "nbformat_minor": 1
}
